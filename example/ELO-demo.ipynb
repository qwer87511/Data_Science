{
 "cells": [
  {
   "cell_type": "markdown",
   "metadata": {},
   "source": [
    "# Step1\n",
    "### Import pandas\n",
    "### Decide the values 'n' , 'K' , and 'start_point'"
   ]
  },
  {
   "cell_type": "code",
   "execution_count": 1,
   "metadata": {},
   "outputs": [],
   "source": [
    "import pandas as pd\n",
    "attribute=['Winner','Loser','ELO Change','Alice','Bobby','Candy','Duran']\n",
    "n=50\n",
    "K=5\n",
    "start_point=200"
   ]
  },
  {
   "cell_type": "markdown",
   "metadata": {},
   "source": [
    "# Step2\n",
    "## Define the function for Score Estimation."
   ]
  },
  {
   "cell_type": "code",
   "execution_count": 2,
   "metadata": {},
   "outputs": [],
   "source": [
    "def elo_e(Ra,Rb):\n",
    "    return 1/(1+(10**((Rb-Ra)/n)))\n",
    "\n",
    "def elo(winner,loser,df):\n",
    "    \n",
    "    game=pd.DataFrame(columns=attribute)\n",
    "    game[attribute[0]]=[winner]\n",
    "    game[attribute[1]]=[loser]\n",
    "    game[attribute[3]]=[df[attribute[3]][df.shape[0]-1]]\n",
    "    game[attribute[4]]=[df[attribute[4]][df.shape[0]-1]]\n",
    "    game[attribute[5]]=[df[attribute[5]][df.shape[0]-1]]\n",
    "    game[attribute[6]]=[df[attribute[6]][df.shape[0]-1]]\n",
    "    \n",
    "    E_winner=elo_e(game[winner],game[loser])\n",
    "    E_loser=elo_e(game[loser],game[winner])\n",
    "    \n",
    "    game[winner]=game[winner]+K*(1-E_winner)\n",
    "    game[loser]=game[loser]+K*(0-E_loser)\n",
    "    game[attribute[2]]=df[loser][df.shape[0]-1]-game[loser]\n",
    "    return game\n",
    "    "
   ]
  },
  {
   "cell_type": "markdown",
   "metadata": {},
   "source": [
    "# Step3\n",
    "## Create a tabular form using datafram."
   ]
  },
  {
   "cell_type": "code",
   "execution_count": 3,
   "metadata": {},
   "outputs": [
    {
     "data": {
      "text/html": [
       "<div>\n",
       "<style scoped>\n",
       "    .dataframe tbody tr th:only-of-type {\n",
       "        vertical-align: middle;\n",
       "    }\n",
       "\n",
       "    .dataframe tbody tr th {\n",
       "        vertical-align: top;\n",
       "    }\n",
       "\n",
       "    .dataframe thead th {\n",
       "        text-align: right;\n",
       "    }\n",
       "</style>\n",
       "<table border=\"1\" class=\"dataframe\">\n",
       "  <thead>\n",
       "    <tr style=\"text-align: right;\">\n",
       "      <th></th>\n",
       "      <th>Winner</th>\n",
       "      <th>Loser</th>\n",
       "      <th>ELO Change</th>\n",
       "      <th>Alice</th>\n",
       "      <th>Bobby</th>\n",
       "      <th>Candy</th>\n",
       "      <th>Duran</th>\n",
       "    </tr>\n",
       "  </thead>\n",
       "  <tbody>\n",
       "    <tr>\n",
       "      <th>0</th>\n",
       "      <td>None</td>\n",
       "      <td>None</td>\n",
       "      <td>0</td>\n",
       "      <td>200</td>\n",
       "      <td>200</td>\n",
       "      <td>200</td>\n",
       "      <td>200</td>\n",
       "    </tr>\n",
       "  </tbody>\n",
       "</table>\n",
       "</div>"
      ],
      "text/plain": [
       "  Winner Loser  ELO Change  Alice  Bobby  Candy  Duran\n",
       "0   None  None           0    200    200    200    200"
      ]
     },
     "execution_count": 3,
     "metadata": {},
     "output_type": "execute_result"
    }
   ],
   "source": [
    "df=pd.DataFrame(columns=attribute)\n",
    "for x in range(7):\n",
    "    if x<3:\n",
    "        df[attribute[x]]=[None]\n",
    "    else:\n",
    "        df[attribute[x]]=[start_point]\n",
    "df[attribute[2]]=[0]\n",
    "df\n"
   ]
  },
  {
   "cell_type": "markdown",
   "metadata": {},
   "source": [
    "# Step4\n",
    "## Input the game results.\n",
    "### This cell can be run again, if you want to add a new results."
   ]
  },
  {
   "cell_type": "code",
   "execution_count": 7,
   "metadata": {},
   "outputs": [
    {
     "name": "stdout",
     "output_type": "stream",
     "text": [
      "Enter the Winner\n",
      "A(lice)/B(obby)/C(andy)/D(uran):A\n",
      "Enter the Loser\n",
      "A(lice)/B(obby)/C(andy)/D(uran):D\n"
     ]
    },
    {
     "data": {
      "text/html": [
       "<div>\n",
       "<style scoped>\n",
       "    .dataframe tbody tr th:only-of-type {\n",
       "        vertical-align: middle;\n",
       "    }\n",
       "\n",
       "    .dataframe tbody tr th {\n",
       "        vertical-align: top;\n",
       "    }\n",
       "\n",
       "    .dataframe thead th {\n",
       "        text-align: right;\n",
       "    }\n",
       "</style>\n",
       "<table border=\"1\" class=\"dataframe\">\n",
       "  <thead>\n",
       "    <tr style=\"text-align: right;\">\n",
       "      <th></th>\n",
       "      <th>Winner</th>\n",
       "      <th>Loser</th>\n",
       "      <th>ELO Change</th>\n",
       "      <th>Alice</th>\n",
       "      <th>Bobby</th>\n",
       "      <th>Candy</th>\n",
       "      <th>Duran</th>\n",
       "    </tr>\n",
       "  </thead>\n",
       "  <tbody>\n",
       "    <tr>\n",
       "      <th>0</th>\n",
       "      <td>None</td>\n",
       "      <td>None</td>\n",
       "      <td>0.000000</td>\n",
       "      <td>200.000000</td>\n",
       "      <td>200.0</td>\n",
       "      <td>200.0</td>\n",
       "      <td>200.000000</td>\n",
       "    </tr>\n",
       "    <tr>\n",
       "      <th>1</th>\n",
       "      <td>Alice</td>\n",
       "      <td>Candy</td>\n",
       "      <td>2.500000</td>\n",
       "      <td>202.500000</td>\n",
       "      <td>200.0</td>\n",
       "      <td>197.5</td>\n",
       "      <td>200.000000</td>\n",
       "    </tr>\n",
       "    <tr>\n",
       "      <th>2</th>\n",
       "      <td>Alice</td>\n",
       "      <td>Duran</td>\n",
       "      <td>2.356247</td>\n",
       "      <td>204.856247</td>\n",
       "      <td>200.0</td>\n",
       "      <td>197.5</td>\n",
       "      <td>197.643753</td>\n",
       "    </tr>\n",
       "  </tbody>\n",
       "</table>\n",
       "</div>"
      ],
      "text/plain": [
       "  Winner  Loser  ELO Change       Alice  Bobby  Candy       Duran\n",
       "0   None   None    0.000000  200.000000  200.0  200.0  200.000000\n",
       "1  Alice  Candy    2.500000  202.500000  200.0  197.5  200.000000\n",
       "2  Alice  Duran    2.356247  204.856247  200.0  197.5  197.643753"
      ]
     },
     "execution_count": 7,
     "metadata": {},
     "output_type": "execute_result"
    }
   ],
   "source": [
    "while 1:\n",
    "    winner=input(\"Enter the Winner\\nA(lice)/B(obby)/C(andy)/D(uran):\")\n",
    "    if winner==\"A\":\n",
    "        winner=\"Alice\"\n",
    "    elif winner==\"B\":\n",
    "        winner=\"Bobby\"\n",
    "    elif winner==\"C\":\n",
    "        winner=\"Candy\"\n",
    "    elif winner==\"D\":\n",
    "        winner=\"Duran\"\n",
    "    if winner==\"Alice\" or loser==\"Bobby\" or loser==\"Candy\" or loser==\"Duran\":\n",
    "        break\n",
    "    else:\n",
    "        print(\"No player named \"+winner+\" Please try again\")\n",
    "\n",
    "while 1:\n",
    "    loser=input(\"Enter the Loser\\nA(lice)/B(obby)/C(andy)/D(uran):\")\n",
    "    if loser==\"A\":\n",
    "        loser=\"Alice\"\n",
    "    elif loser==\"B\":\n",
    "        loser=\"Bobby\"\n",
    "    elif loser==\"C\":\n",
    "        loser=\"Candy\"\n",
    "    elif loser==\"D\":\n",
    "        loser=\"Duran\"\n",
    "    if loser==\"Alice\" or loser==\"Bobby\" or loser==\"Candy\" or loser==\"Duran\":\n",
    "        break\n",
    "    else:\n",
    "        print(\"No player named \"+loser+\" Please try again\")\n",
    "\n",
    "\n",
    "new_game=elo(winner,loser,df)\n",
    "\n",
    "df=df.append(new_game,sort=False)\n",
    "df=df.reset_index(drop=True)\n",
    "df"
   ]
  },
  {
   "cell_type": "markdown",
   "metadata": {},
   "source": [
    "# Step5\n",
    "## Drop the latest 1 game result.\n",
    "### This cell can be run again if you want to drop another latest game result."
   ]
  },
  {
   "cell_type": "code",
   "execution_count": 9,
   "metadata": {},
   "outputs": [
    {
     "data": {
      "text/html": [
       "<div>\n",
       "<style scoped>\n",
       "    .dataframe tbody tr th:only-of-type {\n",
       "        vertical-align: middle;\n",
       "    }\n",
       "\n",
       "    .dataframe tbody tr th {\n",
       "        vertical-align: top;\n",
       "    }\n",
       "\n",
       "    .dataframe thead th {\n",
       "        text-align: right;\n",
       "    }\n",
       "</style>\n",
       "<table border=\"1\" class=\"dataframe\">\n",
       "  <thead>\n",
       "    <tr style=\"text-align: right;\">\n",
       "      <th></th>\n",
       "      <th>Winner</th>\n",
       "      <th>Loser</th>\n",
       "      <th>ELO Change</th>\n",
       "      <th>Alice</th>\n",
       "      <th>Bobby</th>\n",
       "      <th>Candy</th>\n",
       "      <th>Duran</th>\n",
       "    </tr>\n",
       "  </thead>\n",
       "  <tbody>\n",
       "    <tr>\n",
       "      <th>0</th>\n",
       "      <td>None</td>\n",
       "      <td>None</td>\n",
       "      <td>0.0</td>\n",
       "      <td>200.0</td>\n",
       "      <td>200.0</td>\n",
       "      <td>200.0</td>\n",
       "      <td>200.0</td>\n",
       "    </tr>\n",
       "  </tbody>\n",
       "</table>\n",
       "</div>"
      ],
      "text/plain": [
       "  Winner Loser  ELO Change  Alice  Bobby  Candy  Duran\n",
       "0   None  None         0.0  200.0  200.0  200.0  200.0"
      ]
     },
     "execution_count": 9,
     "metadata": {},
     "output_type": "execute_result"
    }
   ],
   "source": [
    "if df.shape[0]-1!=0:\n",
    "    df=df.drop(df.shape[0]-1)\n",
    "    df=df.reset_index(drop=True)\n",
    "else:\n",
    "    print(\"There is no any game result.\")\n",
    "df"
   ]
  }
 ],
 "metadata": {
  "kernelspec": {
   "display_name": "Python 3",
   "language": "python",
   "name": "python3"
  },
  "language_info": {
   "codemirror_mode": {
    "name": "ipython",
    "version": 3
   },
   "file_extension": ".py",
   "mimetype": "text/x-python",
   "name": "python",
   "nbconvert_exporter": "python",
   "pygments_lexer": "ipython3",
   "version": "3.7.6"
  }
 },
 "nbformat": 4,
 "nbformat_minor": 2
}
